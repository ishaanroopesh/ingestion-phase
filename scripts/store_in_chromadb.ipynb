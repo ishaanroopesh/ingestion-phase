{
 "cells": [
  {
   "cell_type": "code",
   "execution_count": 12,
   "id": "eb15364c",
   "metadata": {},
   "outputs": [],
   "source": [
    "import pandas as pd\n",
    "import torch\n",
    "import chromadb\n",
    "from chromadb.config import Settings\n",
    "from pathlib import Path\n",
    "from tqdm import tqdm\n",
    "import numpy as np"
   ]
  },
  {
   "cell_type": "code",
   "execution_count": null,
   "id": "a5e1141a",
   "metadata": {},
   "outputs": [
    {
     "name": "stdout",
     "output_type": "stream",
     "text": [
      "Loading embeddings...\n",
      "Loading input texts...\n",
      "Loading training CSV...\n",
      "Storing into ChromaDB...\n"
     ]
    },
    {
     "name": "stderr",
     "output_type": "stream",
     "text": [
      "100%|██████████| 705/705 [00:00<00:00, 1302.65it/s]\n"
     ]
    },
    {
     "name": "stdout",
     "output_type": "stream",
     "text": [
      "✅ Stored 800 documents to ChromaDB at ../vector_db/chroma\n"
     ]
    }
   ],
   "source": [
    "embedding_path = Path(\"../embeddings/bio_clincalbert_embeddings.pt\")\n",
    "input_text_path = Path(\"../embeddings/input_texts.txt\")\n",
    "csv_path = Path(\"../processed/training_data.csv\")\n",
    "chroma_dir = Path(\"../vector_db/chroma\")\n",
    "\n",
    "# === Load Data ===\n",
    "print(\"Loading embeddings...\")\n",
    "embeddings = torch.load(embedding_path).tolist()\n",
    "\n",
    "print(\"Loading input texts...\")\n",
    "with open(input_text_path, \"r\", encoding=\"utf-8\") as f:\n",
    "    input_texts = [line.strip() for line in f.readlines() if line.strip()]\n",
    "\n",
    "print(\"Loading training CSV...\")\n",
    "df = pd.read_csv(csv_path)\n",
    "\n",
    "# === Init ChromaDB ===\n",
    "chroma_dir.mkdir(parents=True, exist_ok=True)\n",
    "\n",
    "# Updated client initialization\n",
    "client = chromadb.PersistentClient(path=str(chroma_dir))\n",
    "collection = client.get_or_create_collection(\n",
    "    name=\"patient_embeddings\",\n",
    "    metadata={\"hnsw:space\": \"cosine\"}  # Optional: specify similarity metric\n",
    ")\n",
    "\n",
    "# === Store into ChromaDB ===\n",
    "print(\"Storing into ChromaDB...\")\n",
    "batch_size = 100  # Process in batches for large datasets\n",
    "\n",
    "for i in tqdm(range(0, len(input_texts), batch_size)):\n",
    "    batch_texts = input_texts[i:i+batch_size]\n",
    "    batch_embeddings = embeddings[i:i+batch_size]\n",
    "    \n",
    "    # Ensure metadata always has valid values\n",
    "    batch_metadata = []\n",
    "    valid_entries = []\n",
    "    \n",
    "    for j in range(i, min(i+batch_size, len(df))):\n",
    "        # Get current index in batch\n",
    "        idx_in_batch = j - i\n",
    "        \n",
    "        # Skip if text or embedding is empty\n",
    "        if idx_in_batch >= len(batch_texts) or idx_in_batch >= len(batch_embeddings):\n",
    "            continue\n",
    "            \n",
    "        text = batch_texts[idx_in_batch]\n",
    "        embedding = batch_embeddings[idx_in_batch]\n",
    "        \n",
    "        if not text or not isinstance(embedding, (list, np.ndarray)):\n",
    "            continue\n",
    "            \n",
    "        # Prepare metadata with fallback values\n",
    "        metadata = {\n",
    "            \"unit_no\": str(df.iloc[j].get(\"unit no\", \"unknown\")),\n",
    "            \"name\": str(df.iloc[j].get(\"name\", \"unknown\")),\n",
    "            \"summary\": str(df.iloc[j].get(\"summary\", \"none\"))\n",
    "        }\n",
    "        \n",
    "        # Ensure embedding is a list of floats\n",
    "        processed_embedding = [float(x) for x in embedding]\n",
    "        \n",
    "        valid_entries.append({\n",
    "            \"text\": text,\n",
    "            \"embedding\": processed_embedding,\n",
    "            \"metadata\": metadata,\n",
    "            \"id\": f\"train_doc_{j}\"\n",
    "        })\n",
    "    \n",
    "    if not valid_entries:\n",
    "        continue\n",
    "        \n",
    "    # Prepare batch data\n",
    "    documents = [entry[\"text\"] for entry in valid_entries]\n",
    "    embeddings_list = [entry[\"embedding\"] for entry in valid_entries]\n",
    "    metadatas = [entry[\"metadata\"] for entry in valid_entries]\n",
    "    ids = [entry[\"id\"] for entry in valid_entries]\n",
    "    \n",
    "    # Add to collection\n",
    "    collection.add(\n",
    "        documents=documents,\n",
    "        embeddings=embeddings_list,\n",
    "        metadatas=metadatas,\n",
    "        ids=ids\n",
    "    )\n",
    "\n",
    "print(f\"✅ Stored {collection.count()} documents to ChromaDB at {chroma_dir}\")"
   ]
  },
  {
   "cell_type": "code",
   "execution_count": null,
   "id": "7f212fbd",
   "metadata": {},
   "outputs": [],
   "source": [
    "query_text = \"Name: Myra Shah Unit No: 71957719 Admission Date: 2022-06-22 Date Of Birth: 1977-08-01 Sex: F Service: ORTHOPAEDICS Allergies: Penicillins / Amoxicillin / Ultram / hydrocodone / meloxicam / \\nomnipague 240 Attending: Dr. Sharma Chief Complaint: left shoulder osteoarthritis/pain Major Surgical Or Invasive Procedure: nan History Of Present Illness: nan Past Medical History: dyslipidemia, heart murmur, OSA (remote hx, resolved w/weight \\nloss), migraines, spinal stenosis, vertigo, hypothyroidism, \\nGERD, pancreatic cyst, anemia, depression, s/p B/L TKRs, R TSR \\n(___), tonsillectomy, L hand ___ digit arthrodesis (___) Social History: nan Family History: Non-contributory Physical Exam: Well appearing in no acute distress  \\n Afebrile with stable vital signs  \\n Pain well-controlled  \\n Respiratory: CTAB  \\n Cardiovascular: RRR  \\n Gastrointestinal: NT/ND  \\n Genitourinary: Voiding independently  \\n Neurologic: Intact with no focal deficits  \\n Psychiatric: Pleasant, A&O x3  \\n Musculoskeletal Upper Extremity:  \\n * Incision healing well \\n * Scant serosanguinous drainage  \\n * ___ strength  \\n * SILT, NVI distally  \\n * Fingers warm Pertinent Results: nan Medications On Admission: 1. Estrogens Conjugated 0.625 gm VG 1X/WEEK (MO) \\n2. FLUoxetine 50 mg PO DAILY \\n3. Levothyroxine Sodium 75 mcg PO DAILY \\n4. Omeprazole 20 mg PO DAILY \\n5. Simvastatin 20 mg PO QPM \\n6. Spironolactone 50 mg PO DAILY \\n7. Acetaminophen ___ mg PO Q6H:PRN pain \\n8. Vitamin D 1000 UNIT PO DAILY \\n9. Cyanocobalamin 1000 mcg PO DAILY Brief Hospital Course: The patient was admitted to the orthopedic surgery service and \\nwas taken to the operating room for above described procedure. \\nPlease see separately dictated operative report for details. The \\nsurgery was uncomplicated and the patient tolerated the \\nprocedure well. Patient received perioperative IV antibiotics.\\n\\nPostoperative course was remarkable for the following:\\n\\nOn POD#0, she was oliguric and was bloused 500cc NS. On POD #1, \\nshe was hypotensive and bloused 1L of NS and continued to be \\nhypotensive. Later in the day she became hypotensive, short of \\nbreath, and hypoxic. A CXR was obtained and was unremarkable. A \\nCTA was ordered which was negative for a pulmonary embolism. \\nPOD# 2, she continued to have low O2 sats. She was weaned down \\non her oxygen and respond well when ambulating with physical \\ntherapy, but would de-sat upon laying flat. Medicine was \\nconsulted which recommended getting a BNP which was mildly \\nelevated, and Tropins which were within normal limits. On POD \\n#3, Her oxygen saturation improved. \\n\\nOtherwise, pain was controlled with a combination of IV and oral \\npain medications.  The patient received Aspirin for DVT \\nprophylaxis.  Labs were checked throughout the hospital course \\nand repleted accordingly. At the time of discharge the patient \\nwas tolerating a regular diet and feeling well.  The patient was \\nafebrile with stable vital signs.  The patient's hematocrit was \\nacceptable and pain was adequately controlled on an oral \\nregimen. The operative extremity was neurovascularly intact and \\nthe wound was benign. \\n\\nThe patient's weight-bearing status is non-weight bearing as \\ntolerated on the operative extremity.\\n\\nMs. ___ is discharged to home in stable condition. Discharge Medications: 1. Levothyroxine Sodium 75 mcg PO DAILY \\n2. Omeprazole 20 mg PO DAILY \\n3. Simvastatin 20 mg PO QPM \\n4. Vitamin D 1000 UNIT PO DAILY \\n5. Cyanocobalamin 1000 mcg PO DAILY \\n6. Estrogens Conjugated 0.625 gm VG 1X/WEEK (MO) \\n7. FLUoxetine 50 mg PO DAILY \\n8. Docusate Sodium 100 mg PO BID \\n9. OxycoDONE (Immediate Release)  ___ mg PO Q4H:PRN pain \\nplease no driving or drinking alcohol while taking this \\nmedication \\n10. Aspirin EC 325 mg PO DAILY \\n11. Senna 17.2 mg PO HS \\n12. TraMADol 25 mg PO Q6H:PRN pain Discharge Diagnosis: left shoulder osteoarthritis/pain Discharge Condition: Mental Status: Clear and coherent.\\nLevel of Consciousness: Alert and interactive.\\nActivity Status: Ambulatory - Independent. Discharge Instructions: 1. Please return to the emergency department or notify your \\nphysician if you experience any of the following: severe pain \\nnot relieved by medication, increased swelling, decreased \\nsensation, difficulty with movement, fevers greater than 101.5, \\nshaking chills, increasing redness or drainage from the incision \\nsite, chest pain, shortness of breath or any other concerns.\\n\\n2. Please follow up with your primary physician regarding this \\nadmission and any new medications and refills. \\n\\n3. Resume your home medications unless otherwise instructed.\\n\\n4. You have been given medications for pain control. Please do \\nnot drive, operate heavy machinery, or drink alcohol while \\ntaking these medications. As your pain decreases, take fewer \\ntablets and increase the time between doses. This medication can \\ncause constipation, so you should drink plenty of water daily \\nand take a stool softener (such as Colace) as needed to prevent \\nthis side effect.  Call your surgeons office 3 days before you \\nare out of medication so that it can be refilled.  These \\nmedications cannot be called into your pharmacy and must be \\npicked up in the clinic or mailed to your house.  \\n\\n5. You may not drive a car until cleared to do so by your \\nsurgeon.\\n\\n6. Please call your surgeon's office to schedule or confirm your Discharge Disposition: Home\"\n",
    "query_embedding = embed_text(query_text)"
   ]
  }
 ],
 "metadata": {
  "kernelspec": {
   "display_name": "autogen",
   "language": "python",
   "name": "python3"
  },
  "language_info": {
   "codemirror_mode": {
    "name": "ipython",
    "version": 3
   },
   "file_extension": ".py",
   "mimetype": "text/x-python",
   "name": "python",
   "nbconvert_exporter": "python",
   "pygments_lexer": "ipython3",
   "version": "3.11.4"
  }
 },
 "nbformat": 4,
 "nbformat_minor": 5
}
